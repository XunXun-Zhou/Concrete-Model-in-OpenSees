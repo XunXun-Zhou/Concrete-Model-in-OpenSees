{
 "cells": [
  {
   "cell_type": "markdown",
   "metadata": {},
   "source": [
    "# 我国规范中的混凝土本构与OpenSees本构"
   ]
  },
  {
   "cell_type": "markdown",
   "metadata": {},
   "source": [
    "## 1 简介\n",
    "\n",
    "抗震研究领域常用软件OpenSees是一款由UC Berkeley和PEER共同开发的开源软件平台，具有非常突出的非线性动力计算能力，并且提供了丰富的材料本构（特别是混凝土材料）。同时，用户也可以根据需要对程序进行材料和单元模型、迭代算法等的二次开发。对于大多数用户而言，重新开发新的材料本构模型难度较大，通常都是直接使用软件提供的材料本构和单元模型进行计算分析。然而，OpenSees混凝土材料手册写得太过简略，网页端还不支持数学公式，看起来费劲。这里对OpenSees中的几种常用混凝土本构进行梳理。具体内容如下：\n",
    "\n",
    "* 第二节对我国《混凝土结构设计规范》GB 50010 - 2010中混凝土的材料特性及单轴本构进行介绍；\n",
    "* 第三节对约束混凝土的常用单轴本构——Mander模型进行介绍；\n",
    "* 第四节对OpenSees中的几种常用本构进行梳理。\n",
    "\n",
    "需要注意的是，这里所提到的材料本构均为狭义本构，及**单调荷载下的单轴应力 - 应变关系**，暂时不涉及往复荷载下的加卸载路径、受拉曲线原点偏移、裂缝闭合等问题的详细介绍。同时，在编写OpenSees中几种常用混凝土本构时，相关参数的输入取经验值，实际上可采用非线性拟合等方法得到参数的最优值，相关内容后期可能更新，也欢迎有了解的同行加入完善。\n",
    "\n",
    "Jupyter Notebook中有关参考文献的插入目前还没有找到好的办法，这里将按先后顺序参考文献一并列出：\n",
    "\n",
    ">1. 中华人民共和国住房和城乡建设部组织. 混凝土结构设计规范:GB 50010-2010. 混凝土结构设计规范：GB 50010-2010; 2014.\n",
    ">2. 过镇海. 钢筋混凝土原理. 钢筋混凝土原理; 2013.\n",
    ">3. Mander JB, Priestley MJN, Park R. Theoretical Stress‐Strain Model for Confined Concrete. Journal of Structural Engineering. 1988;114(8):1804-1826. doi:10.1061/(asce)0733-9445(1988)114:8(1804)\n",
    ">4. Chang G, Mander JB. Seismic energy based fatigue damage analysis of bridge columns: Part I-Evaluation of seismic capacity. National Center for Earthquake Engineering Research Buffalo, NY; 1994.\n",
    ">5. Stanton JF, McNiven HD. The development of a mathematical model to predict the flexural response of reinforced concrete beams to cyclic loads, using system identification. 1979. \n",
    ">5. Lee WK, Billington SL. Simulation and Performance-Based Earthquake Engineering Assessment of Self-Centering Post-Tensioned Concrete Bridge Systems. 2009;\n",
    ">6. Popovics S. A numerical approach to the complete stress-strain curve of concrete. Cement and Concrete Research. 1973;3(5):583-599. doi:10.1016/0008-8846(73)90096-3\n",
    ">7. 赵金钢, 杜斌, 占玉林, 赵凯. OpenSees中混凝土本构模型用于模拟结构滞回性能的对比. 桂林理工大学学报. 2017;37(1):9. \n",
    ">8. Waugh JD. Nonlinear analysis of T-shaped concrete walls subjected to multi-directional displacements. Iowa State University; 2009.\n",
    ">9. Tsai WT. Uniaxial Compressional Stress‐Strain Relation of Concrete. Journal of Structural Engineering. 1988;114(9):2133-2136. doi:10.1061/(asce)0733-9445(1988)114:9(2133)\n",
    ">10. Kolozvari K, Orakcal K, Wallace J. Shear-flexure interaction modeling for reinforced concrete structural walls and columns under reversed cyclic loading. Pacific Earthquake Engineering Research Center, University of California, Berkeley, PEER Report. 2015;(2015/12)\n",
    "\n",
    "由于作者水平有限，该文档出现错误在所难免，还请读者批评指正。\n",
    "\n",
    "联系方式：周迅 702135971@qq.com\n",
    "\n",
    "### 版本更新\n",
    "\n",
    "1. 2022.6.29\n",
    "\n",
    "> 初始版本发布"
   ]
  },
  {
   "cell_type": "markdown",
   "metadata": {},
   "source": [
    "## 2 混凝土材料特性及单轴本构\n",
    "\n",
    "<style>\n",
    "table\n",
    "{\n",
    "    margin: auto;\n",
    "}\n",
    "td\n",
    "{\n",
    "    text-align:center;\n",
    "}\n",
    "</style>\n",
    "\n",
    "\n",
    "### 2.1 材料特性\n",
    "\n",
    "**立方体抗压强度及其标准值**\n",
    "\n",
    "为了确定混凝土的抗压强度，我国国标《普通混凝土力学性能试验方法》（GB/T 50081-2002）中规定：标准时间取边长为150mm的立方体，用钢模成型，经浇筑、振捣密实后静置一昼夜，试件拆模后放入标准养护室，即（20±3）℃，相对湿度>90%；28天龄期后取出试件，擦干表面水，置于试验机内，沿浇筑的垂直方向施加压力，以每秒0.3~0.5MPa的速度连续加载至试件破坏。试件的破坏荷载除以承压面积，即为混凝土的立方体抗压强度$f_{cu}$。立方体抗压强度标准值$f_{cu,k}$系指按标准方法制作、养护的边长为150mm的立方体试件，在28天或设计规定龄期以标准试验方法测得的具有95%保证率的抗压强度值。\n",
    "\n",
    "**圆柱体抗压强度**\n",
    "\n",
    "有些国家（如美国、日本）和国际学术组织（如CEB-FIP)规定以圆柱体为标准抗压试件，高300mm，直径150mm。测定的强度成为圆柱体抗压强度，以$f_c^{'}$表示。不同形状和尺寸试件的混凝土抗压强度相对值如下表。\n",
    "\n",
    "<table>\n",
    "    <caption>表2.1 不同形状和尺寸时间的混凝土抗压强度相对值</caption>\n",
    "    <tr>\n",
    "        <td rowspan=\"3\">混凝土试件</td>\n",
    "        <td colspan=\"3\">立方体</td>\n",
    "        <td colspan=\"5\">圆柱体</td>\n",
    "    </tr>\n",
    "    <tr>\n",
    "        <td colspan=\"3\">边长/mm</td>\n",
    "        <td colspan=\"5\">强度等级</td>\n",
    "    </tr>\n",
    "    <tr>\n",
    "        <td>200</td>\n",
    "        <td>150</td>\n",
    "        <td>150</td>\n",
    "        <td>C20~C40</td>\n",
    "        <td>C50</td>\n",
    "        <td>C60</td>\n",
    "        <td>C70</td>\n",
    "        <td>C80</td>\n",
    "    </tr>\n",
    "    <tr>\n",
    "        <td>抗压强度相对值</td>\n",
    "        <td>0.95</td>\n",
    "        <td>1</td>\n",
    "        <td>1.05</td>\n",
    "        <td>0.80</td>\n",
    "        <td>0.83</td>\n",
    "        <td>0.86</td>\n",
    "        <td>0.875</td>\n",
    "        <td>0.89</td>\n",
    "    </tr>\n",
    "</table>\n",
    "\n",
    "**棱柱体抗压强度及其标准值**\n",
    "\n",
    "为消除立方体试件两端局部应力和约束变形的影响，采用棱柱体试件进行抗压试验。棱柱体标准时间的尺寸取为150mm×150mm×300mm，时间的支座、养护、加载龄期和试验方法与立方体标准试验相同。试件的破坏荷载除以截面积，即为混凝土的棱柱体抗压强度$f_{c}$。棱柱体抗压强度标准值$f_{ck}$指按标准方法制作、养护的尺寸为150mm×150mm×300mm的棱柱体试件，在28天或设计规定龄期以标准试验方法测得的具有95%保证率的抗压强度值。\n",
    "\n",
    "**混凝土的变异系数**\n",
    "\n",
    "混凝土材料的变异系数$\\delta_f$可按下表取用。\n",
    "\n",
    "<table>\n",
    "    <caption>表2.2 混凝土材料的变异系数</caption>\n",
    "    <tr>\n",
    "        <td>混凝土等级</td>\n",
    "        <td>C25</td>\n",
    "        <td>C30</td>\n",
    "        <td>C35</td>\n",
    "        <td>C40</td>\n",
    "        <td>C45</td>\n",
    "        <td>C50</td>\n",
    "        <td>C55</td>\n",
    "        <td>C60</td>\n",
    "    </tr>\n",
    "    <tr>\n",
    "        <td>混规</td>\n",
    "        <td>0.189</td>\n",
    "        <td>0.172</td>\n",
    "        <td>0.164</td>\n",
    "        <td>0.156</td>\n",
    "        <td>0.156</td>\n",
    "        <td>0.149</td>\n",
    "        <td>-</td>\n",
    "        <td>0.41</td>\n",
    "    </tr>\n",
    "    <tr>\n",
    "        <td>桥规</td>\n",
    "        <td>0.16</td>\n",
    "        <td>0.14</td>\n",
    "        <td>0.13</td>\n",
    "        <td>0.12</td>\n",
    "        <td>0.12</td>\n",
    "        <td>0.11</td>\n",
    "        <td>0.11</td>\n",
    "        <td>0.10</td>\n",
    "    </tr>\n",
    "</table>\n",
    "\n",
    "**轴心抗压、抗拉强度标准值**\n",
    "\n",
    "混凝土的强度标准值可由立方体抗压强度标准值$f_{cu,k}$经计算确定。其中轴心抗压强度标准值$f_{ck}$取值如下表。\n",
    "\n",
    "<table>\n",
    "    <caption>表2.3 不同等级混凝土轴心抗压强度标准值</caption>\n",
    "    <tr>\n",
    "        <td rowspan=\"2\">强度</td>\n",
    "        <td colspan=\"14\">混凝土强度等级</td>\n",
    "    </tr>\n",
    "    <tr>\n",
    "        <td>C15</td>\n",
    "        <td>C20</td>\n",
    "        <td>C25</td>\n",
    "        <td>C30</td>\n",
    "        <td>C35</td>\n",
    "        <td>C40</td>\n",
    "        <td>C45</td>\n",
    "        <td>C50</td>\n",
    "        <td>C55</td>\n",
    "        <td>C60</td>\n",
    "        <td>C65</td>\n",
    "        <td>C70</td>\n",
    "        <td>C75</td>\n",
    "        <td>C80</td>\n",
    "    </tr>\n",
    "    <tr>\n",
    "        <td>f_{ck}</td>\n",
    "        <td>10.0</td>\n",
    "        <td>13.4</td>\n",
    "        <td>16.7</td>\n",
    "        <td>20.1</td>\n",
    "        <td>23.4</td>\n",
    "        <td>26.8</td>\n",
    "        <td>29.6</td>\n",
    "        <td>32.4</td>\n",
    "        <td>35.5</td>\n",
    "        <td>38.5</td>\n",
    "        <td>41.5</td>\n",
    "        <td>44.5</td>\n",
    "        <td>47.4</td>\n",
    "        <td>50.2</td>\n",
    "    </tr>\n",
    "</table>\n",
    "\n",
    "轴心抗拉强度标准值取值如下表。\n",
    "\n",
    "<table>\n",
    "    <caption>表2.4 不同等级混凝土轴心抗拉强度标准值</caption>\n",
    "    <tr>\n",
    "        <td rowspan=\"2\">强度</td>\n",
    "        <td colspan=\"14\">混凝土强度等级</td>\n",
    "    </tr>\n",
    "    <tr>\n",
    "        <td>C15</td>\n",
    "        <td>C20</td>\n",
    "        <td>C25</td>\n",
    "        <td>C30</td>\n",
    "        <td>C35</td>\n",
    "        <td>C40</td>\n",
    "        <td>C45</td>\n",
    "        <td>C50</td>\n",
    "        <td>C55</td>\n",
    "        <td>C60</td>\n",
    "        <td>C65</td>\n",
    "        <td>C70</td>\n",
    "        <td>C75</td>\n",
    "        <td>C80</td>\n",
    "    </tr>\n",
    "    <tr>\n",
    "        <td>f_{tk}</td>\n",
    "        <td>1.27</td>\n",
    "        <td>1.54</td>\n",
    "        <td>1.78</td>\n",
    "        <td>2.01</td>\n",
    "        <td>2.20</td>\n",
    "        <td>2.39</td>\n",
    "        <td>2.51</td>\n",
    "        <td>2.64</td>\n",
    "        <td>2.74</td>\n",
    "        <td>2.85</td>\n",
    "        <td>2.93</td>\n",
    "        <td>2.99</td>\n",
    "        <td>3.05</td>\n",
    "        <td>3.11</td>\n",
    "    </tr>\n",
    "</table>\n",
    "\n",
    "混凝土受压和受拉的弹性模量$E_c$按下表采用。\n",
    "\n",
    "<table>\n",
    "    <caption>表2.5 不同等级混凝土弹性模量</caption>\n",
    "    <tr>\n",
    "        <td>混凝土等级</td>\n",
    "        <td>C15</td>\n",
    "        <td>C20</td>\n",
    "        <td>C25</td>\n",
    "        <td>C30</td>\n",
    "        <td>C35</td>\n",
    "        <td>C40</td>\n",
    "        <td>C45</td>\n",
    "        <td>C50</td>\n",
    "        <td>C55</td>\n",
    "        <td>C60</td>\n",
    "        <td>C65</td>\n",
    "        <td>C70</td>\n",
    "        <td>C75</td>\n",
    "        <td>C80</td>\n",
    "    </tr>\n",
    "    <tr>\n",
    "        <td>E_c(GPa)</td>\n",
    "        <td>22.0</td>\n",
    "        <td>25.5</td>\n",
    "        <td>28.0</td>\n",
    "        <td>30.0</td>\n",
    "        <td>31.5</td>\n",
    "        <td>32.5</td>\n",
    "        <td>33.5</td>\n",
    "        <td>34.5</td>\n",
    "        <td>35.5</td>\n",
    "        <td>36.0</td>\n",
    "        <td>36.5</td>\n",
    "        <td>37.0</td>\n",
    "        <td>37.5</td>\n",
    "        <td>38.0</td>\n",
    "    </tr>\n",
    "</table>\n",
    "\n",
    "混凝土剪切模量$G_c$取为$E_c$的0.4倍，泊松比取0.2。\n",
    "\n",
    "### 2.2 混凝土单轴本构关系\n",
    "\n",
    "混凝土单轴受压的应力-应变曲线可按下列公式确定：\n",
    "\n",
    "$$\n",
    "\\sigma = (1 - d_c)E_c\\epsilon \\tag{2.1}\n",
    "$$\n",
    "\n",
    "$$\n",
    "d_c = \n",
    "\\left\\{\\begin{matrix} \n",
    "  1 - \\displaystyle{\\frac{\\rho_cn}{n - 1 + x^n}} & x \\leq 1\\\\  \n",
    "  1 - \\displaystyle{\\frac{\\rho_c}{\\alpha_c(x - 1)^2 + x}} & x > 1\n",
    "\\end{matrix}\\right. \\tag{2.2}\n",
    "$$\n",
    "\n",
    "$$\n",
    "\\rho_c = \\displaystyle{\\frac{f_{c,r}}{E_c\\epsilon_{c,r}}} \\tag{2.3}\n",
    "$$\n",
    "\n",
    "$$\n",
    "n = \\displaystyle{\\frac{E_c\\epsilon_{c,r}}{E_c\\epsilon_{c,r}-f_{c,r}}} \\tag{2.4}\n",
    "$$\n",
    "\n",
    "$$\n",
    "x = \\displaystyle{\\frac{\\epsilon}{\\epsilon_{c,r}}} \\tag{2.5}\n",
    "$$\n",
    "\n",
    "其中，$f_{c,r}$为混凝土单轴抗压强度代表值。\n",
    "\n",
    "<table>\n",
    "<caption>表2.6 混凝土单轴受压应力－应变曲线的参数取值</caption>\n",
    "    <tr>\n",
    "        <td>f_{c,r}</td>\n",
    "        <td>20</td>\n",
    "        <td>25</td>\n",
    "        <td>30</td>\n",
    "        <td>35</td>\n",
    "        <td>40</td>\n",
    "        <td>45</td>\n",
    "        <td>50</td>\n",
    "        <td>55</td>\n",
    "        <td>60</td>\n",
    "        <td>65</td>\n",
    "        <td>70</td>\n",
    "        <td>75</td>\n",
    "        <td>80</td>\n",
    "    </tr>\n",
    "    <tr>\n",
    "        <td>\\epsilon_{c,r}(10^{-6})</td>\n",
    "        <td>1470</td>\n",
    "        <td>1560</td>\n",
    "        <td>1640</td>\n",
    "        <td>1720</td>\n",
    "        <td>1790</td>\n",
    "        <td>1850</td>\n",
    "        <td>1920</td>\n",
    "        <td>1980</td>\n",
    "        <td>2030</td>\n",
    "        <td>2080</td>\n",
    "        <td>2130</td>\n",
    "        <td>2190</td>\n",
    "        <td>2240</td>\n",
    "    </tr>\n",
    "    <tr>\n",
    "        <td>\\alpha_c</td>\n",
    "        <td>0.74</td>\n",
    "        <td>1.06</td>\n",
    "        <td>1.36</td>\n",
    "        <td>1.65</td>\n",
    "        <td>1.94</td>\n",
    "        <td>2.21</td>\n",
    "        <td>2.48</td>\n",
    "        <td>2.74</td>\n",
    "        <td>3.00</td>\n",
    "        <td>3.25</td>\n",
    "        <td>3.50</td>\n",
    "        <td>3.75</td>\n",
    "        <td>3.99</td>\n",
    "    </tr>\n",
    "</table>\n",
    "\n",
    "混凝土单轴受拉的应力-应变曲线可按下列公式确定：\n",
    "\n",
    "$$\n",
    "\\sigma = (1 - d_t)E_c\\epsilon \\tag{2.6}\n",
    "$$\n",
    "\n",
    "$$\n",
    "d_c = \n",
    "\\left\\{\\begin{matrix} \n",
    "  1 - \\rho_t [1.2-0.2x^5] & x \\leq 1\\\\  \n",
    "  1 - \\displaystyle{\\frac{\\rho_t}{\\alpha_t(x - 1)^{1.7} + x}} & x > 1\n",
    "\\end{matrix}\\right. \\tag{2.7}\n",
    "$$\n",
    "\n",
    "$$\n",
    "\\rho_t = \\displaystyle{\\frac{f_{t,r}}{E_c\\epsilon_{t,r}}} \\tag{2.8}\n",
    "$$\n",
    "\n",
    "$$\n",
    "x = \\displaystyle{\\frac{\\epsilon}{\\epsilon_{t,r}}} \\tag{2.9}\n",
    "$$\n",
    "\n",
    "其中，$f_{t,r}$为混凝土单轴抗拉强度代表值。\n",
    "\n",
    "<table>\n",
    "<caption>表2.7 混凝土单轴受拉应力－应变曲线的参数取值</caption>\n",
    "    <tr>\n",
    "        <td>f_{t,r}</td>\n",
    "        <td>1.0</td>\n",
    "        <td>1.5</td>\n",
    "        <td>2.0</td>\n",
    "        <td>2.5</td>\n",
    "        <td>3.0</td>\n",
    "        <td>3.5</td>\n",
    "        <td>4.0</td>\n",
    "    </tr>\n",
    "    <tr>\n",
    "        <td>\\epsilon_{t,r}(10^{-6})</td>\n",
    "        <td>65</td>\n",
    "        <td>81</td>\n",
    "        <td>95</td>\n",
    "        <td>107</td>\n",
    "        <td>118</td>\n",
    "        <td>128</td>\n",
    "        <td>137</td>\n",
    "    </tr>\n",
    "    <tr>\n",
    "        <td>\\alpha_t</td>\n",
    "        <td>0.31</td>\n",
    "        <td>0.70</td>\n",
    "        <td>1.25</td>\n",
    "        <td>1.95</td>\n",
    "        <td>2.81</td>\n",
    "        <td>3.82</td>\n",
    "        <td>5.00</td>\n",
    "    </tr>\n",
    "</table>\n",
    "\n",
    "由此得到受拉、受压全曲线如下。"
   ]
  },
  {
   "cell_type": "code",
   "execution_count": 1,
   "metadata": {},
   "outputs": [],
   "source": [
    "import numpy as np\n",
    "import matplotlib.pyplot as plt"
   ]
  },
  {
   "cell_type": "code",
   "execution_count": 2,
   "metadata": {},
   "outputs": [],
   "source": [
    "# 基本参数输入\n",
    "# 为了和Mander能够合上，fcr得取fcp，即圆柱体抗压强度\n",
    "\n",
    "fcuk = 40 # 立方体标准值 C40（MPa）\n",
    "fcr = 32 # 抗压强度代表值，可取立方体强度、*抗压强度标准值*、抗压强度平均值等等（MPa）\n",
    "ftr = 2.39 # 抗拉强度代表值，可取立方体强度、*抗拉强度标准值*、抗拉强度平均值等等（MPa）"
   ]
  },
  {
   "cell_type": "code",
   "execution_count": 3,
   "metadata": {},
   "outputs": [],
   "source": [
    "xc = np.array([20, 25, 30, 35, 40, 45, 50, 55, 60, 65, 70, 75, 80])\n",
    "mc = np.array([25.5, 28.0, 30.0, 31.5, 32.5, 33.5, 34.5, 35.5, 36.0, 36.5, 37.0, 37.5, 38.0]) * 10**3\n",
    "yc = np.array([1470, 1560, 1640, 1720, 1790, 1850, 1920, 1980, 2030, 2080, 2130, 2190, 2240]) * 10**(-6)\n",
    "zc = np.array([0.74, 1.06, 1.36, 1.65, 1.94, 2.21, 2.48, 2.74, 3.00, 3.25, 3.50, 3.75, 3.99])\n",
    "\n",
    "Ec = np.interp(fcuk, xc, mc) # 根据混规插值弹模（MPa）\n",
    "epscr = np.interp(fcr, xc, yc) # 根据混规插值峰值压应力对应的应变\n",
    "ac = np.interp(fcr,xc,zc) # 根据混规插值受压曲线形状参数\n",
    "\n",
    "xt = np.array([1.0, 1.5, 2.0, 2.5, 3.0, 3.5, 4.0])\n",
    "yt = np.array([65, 81, 95, 107, 118, 128, 137]) * 10**(-6)\n",
    "zt = np.array([0.31, 0.70, 1.25, 1.95, 2.81, 3.82, 5.00])\n",
    "\n",
    "epstr = np.interp(ftr, xt, yt) # 根据混规插值峰值拉应力对应的应变\n",
    "at = np.interp(ftr, xt, zt) # 根据混规插值受拉曲线形状参数"
   ]
  },
  {
   "cell_type": "code",
   "execution_count": 4,
   "metadata": {},
   "outputs": [
    {
     "data": {
      "text/plain": [
       "(0.0, 33.6)"
      ]
     },
     "execution_count": 4,
     "metadata": {},
     "output_type": "execute_result"
    },
    {
     "data": {
      "image/png": "[encoded data removed]",
      "text/plain": [
       "<Figure size 432x288 with 1 Axes>"
      ]
     },
     "metadata": {
      "needs_background": "light"
     },
     "output_type": "display_data"
    }
   ],
   "source": [
    "# 受压应力应变曲线计算\n",
    "\n",
    "rhoc = fcr / Ec / epscr\n",
    "n = Ec * epscr / (Ec * epscr - fcr)\n",
    "\n",
    "# 上升段\n",
    "\n",
    "xc1 = np.linspace(0, 1, 100, endpoint=False)\n",
    "dc1 = 1 - rhoc * n / (n - 1 + xc1 ** n)\n",
    "sc1 = (1 - dc1) * Ec * xc1 * epscr\n",
    "ec1 = xc1 * epscr\n",
    "\n",
    "# 下降段\n",
    "\n",
    "xc2 = np.linspace(1, 10, 1000, endpoint=True)\n",
    "dc2 = 1 - rhoc / (ac * (xc2 - 1)**2 + xc2)\n",
    "sc2 = (1 - dc2) * Ec * xc2 * epscr\n",
    "ec2 = xc2 * epscr\n",
    "\n",
    "ec = np.concatenate((ec1, ec2)) # 上升段与下降段应变合成\n",
    "sc = np.concatenate((sc1, sc2)) # 上升段与下降段应力合成\n",
    "\n",
    "plt.plot(ec, sc)\n",
    "plt.xlim(left = 0)\n",
    "plt.ylim(bottom = 0)\n"
   ]
  },
  {
   "cell_type": "code",
   "execution_count": 5,
   "metadata": {},
   "outputs": [
    {
     "data": {
      "text/plain": [
       "(0.0, 2.5095)"
      ]
     },
     "execution_count": 5,
     "metadata": {},
     "output_type": "execute_result"
    },
    {
     "data": {
      "image/png": "[encoded data removed]",
      "text/plain": [
       "<Figure size 432x288 with 1 Axes>"
      ]
     },
     "metadata": {
      "needs_background": "light"
     },
     "output_type": "display_data"
    }
   ],
   "source": [
    "# 受拉应力应变曲线计算\n",
    "\n",
    "rhot = ftr / Ec / epstr\n",
    "\n",
    "# 上升段\n",
    "\n",
    "xt1 = np.linspace(0, 1, 100, endpoint=False)\n",
    "dt1 = 1 - rhot * (1.2 - 0.2 * xt1 ** 5)\n",
    "st1 = (1 - dt1) * Ec * xt1 * epstr\n",
    "et1 = xt1 * epstr\n",
    "\n",
    "# 下降段\n",
    "\n",
    "xt2 = np.linspace(1, 10, 1000, endpoint=True)\n",
    "dt2 = 1 - rhot / (at * (xt2 - 1)**1.7 + xt2)\n",
    "st2 = (1 - dt2) * Ec * xt2 * epstr\n",
    "et2 = xt2 * epstr\n",
    "\n",
    "et = np.concatenate((et1, et2)) # 上升段与下降段应变合成\n",
    "st = np.concatenate((st1, st2)) # 上升段与下降段应力合成\n",
    "\n",
    "plt.plot(et, st)\n",
    "plt.xlim(left = 0)\n",
    "plt.ylim(bottom = 0)"
   ]
  },
  {
   "cell_type": "markdown",
   "metadata": {},
   "source": [
    "## 3 约束混凝土的Mander本构\n",
    "\n",
    "对于约束混凝土的本构关系，国内外学者进行了很多的试验研究。其中，得到最广泛认可的是Mander本构，这一曲线适用于任何截面形状和约束水平，可用下式表示：\n",
    "\n",
    "$$\n",
    "f_c = \\displaystyle{\\frac{f_{cc}^{'} \\cdot x \\cdot r}{r - 1 + x^r}} \\tag{3.1}\n",
    "$$\n",
    "\n",
    "其中，$f_{cc}^{'}$为约束混凝土的峰值压应力。\n",
    "\n",
    "$$\n",
    "x = \\displaystyle{\\frac{\\epsilon_c}{\\epsilon_{cc}}} \\tag{3.2}\n",
    "$$\n",
    "\n",
    "其中，$\\epsilon_c$为混凝土的纵向压应变，$\\epsilon_{cc}$为峰值压应力$f_{cc}^{'}$所对应的应变。\n",
    "\n",
    "$$\n",
    "\\epsilon_{cc} = \\bigg [5 \\bigg (\\frac{f_{cc}^{'}}{f_{c}^{'}} - 1 \\bigg ) + 1 \\bigg ]\\epsilon_{c0} \\tag{3.3}\n",
    "$$\n",
    "\n",
    "其中，$f_{c}^{'}$、$\\epsilon_{c0}$分别为无约束混凝土的圆柱体抗压强度及相应的纵向压应变。\n",
    "\n",
    "$$\n",
    "r = \\displaystyle{\\frac{E_c}{E_c - E_{sec}}} \\tag{3.4}\n",
    "$$\n",
    "\n",
    "$$\n",
    "E_c = 5000 \\sqrt{f_{c}^{'}} \\tag{3.5}\n",
    "$$\n",
    "\n",
    "$$\n",
    "E_{sec} = \\displaystyle{\\frac{f_{cc}^{'}}{\\epsilon_{cc}}} \\tag{3.6}\n",
    "$$\n",
    "\n",
    "其中，各强度、模量的单位取MPa。\n",
    "\n",
    "约束混凝土的峰值压应力$f_{cc}^{'}$分两种情况计算：\n",
    "1. 圆形截面\n",
    "\n",
    "    由于圆形截面水平方向上的约束应力相等，根据混凝土的三维本构，可以得到如下峰值压应力$f_{cc}^{'}$与有效横向约束应力的关系。\n",
    "\n",
    "    $$\n",
    "    f_{cc}^{'} = f_{c}^{'} \\cdot \\bigg (2.254 \\sqrt{1 + \\displaystyle{\\frac{7.94f_l^{'}}{f_{c}^{'}}}} - 2\\displaystyle{\\frac{f_l^{'}}{f_{c}^{'}}} - 1.254 \\bigg ) \\tag{3.7}\n",
    "    $$\n",
    "\n",
    "    其中，$f_l^{'}$为有效横向约束应力。\n",
    "\n",
    "    $$\n",
    "    f_l^{'} = K_e\\displaystyle{\\frac{2f_{yh} \\cdot A_{sp}}{D^{'} \\cdot s}} \\tag{3.8}\n",
    "    $$\n",
    "\n",
    "    其中，$K_e$为截面的有效约束系数，为有效约束核心混凝土面积与核心混凝土总面积之比，一般取0.95。或按下式进行计算。\n",
    "\n",
    "    $$\n",
    "    \\left\\{\\begin{matrix} \n",
    "      K_e = \\displaystyle{\\frac{ \\bigg (1 - \\displaystyle{\\frac {s'}{2d_s}} \\bigg )}{1 - \\rho_{cc}}} & 螺旋筋 \\\\\n",
    "      K_e = \\displaystyle{\\frac{ \\bigg (1 - \\displaystyle{\\frac {s'}{2d_s}} \\bigg )^2}{1 - \\rho_{cc}}} & 圆形箍筋\n",
    "    \\end{matrix}\\right. \\tag{3.9}\n",
    "    $$\n",
    "    \n",
    "    $f_{yh}$、$A_{sp}$为箍筋的屈服强度和截面面积；$D^{'}$、$s$分别为`箍筋环`的直径和纵向间距。   \n"
   ]
  },
  {
   "cell_type": "code",
   "execution_count": null,
   "metadata": {},
   "outputs": [],
   "source": [
    "import numpy as np\n",
    "import matplotlib.pyplot as plt"
   ]
  },
  {
   "cell_type": "code",
   "execution_count": 6,
   "metadata": {},
   "outputs": [],
   "source": [
    "# 基本参数输入\n",
    "\n",
    "fcuk = 40 # 立方体标准值 C40（MPa）\n",
    "fyh = 300 # 箍筋的屈服强度（MPa）\n",
    "dsp = 12 # 箍筋直径（mm）\n",
    "Dp = 1500 # 箍筋环直径（mm）\n",
    "s = 50 # 箍筋间距（mm）"
   ]
  },
  {
   "cell_type": "code",
   "execution_count": 7,
   "metadata": {},
   "outputs": [
    {
     "data": {
      "text/plain": [
       "(0.0, 39.48063489650572)"
      ]
     },
     "execution_count": 7,
     "metadata": {},
     "output_type": "execute_result"
    },
    {
     "data": {
      "image/png": "[encoded data removed]",
      "text/plain": [
       "<Figure size 432x288 with 1 Axes>"
      ]
     },
     "metadata": {
      "needs_background": "light"
     },
     "output_type": "display_data"
    }
   ],
   "source": [
    "xc = np.array([20, 25, 30, 35, 40, 45, 50, 55, 60, 65, 70, 75, 80])\n",
    "yc = np.array([0.80, 0.80, 0.80, 0.80, 0.80, 0.815, 0.83, 0.845, 0.86, 0.8675, 0.875, 0.8825, 0.89])\n",
    "zc = np.array([1470, 1560, 1640, 1720, 1790, 1850, 1920, 1980, 2030, 2080, 2130, 2190, 2240]) * 10**(-6)\n",
    "\n",
    "fcp = np.interp(fcuk, xc, yc) * fcuk # 圆柱体抗压强度（MPa）\n",
    "epsc0 = np.interp(fcp, xc, zc) # 根据混规插值出峰值应力对应的应变\n",
    "Ec = 5000 * fcp**0.5 # 弹模（MPa）\n",
    "\n",
    "Asp = 0.25 * np.pi * dsp**2 # 箍筋截面积mm^2\n",
    "\n",
    "flp = 0.95 * 2 * fyh * Asp / Dp / s # 有效横向约束应力（MPa）\n",
    "fccp = fcp * (2.254 * (1 + 7.94 * flp / fcp)**0.5 - 2 * flp / fcp - 1.254) # 约束后的峰值压应力（MPa）\n",
    "epscc = epsc0 * (5 * (fccp / fcp - 1) + 1) # 约束后的峰值压应力对应的应变\n",
    "Esec = fccp / epscc # 割线模量，用来定义骨架曲线（MPa）\n",
    "r = Ec / (Ec - Esec) # 用来定义骨架曲线的形状参数\n",
    "\n",
    "epscu = 0.004 + 1.4 * fyh * 0.09 * (4 * Asp / s / Dp) / fccp # 约束混凝土的极限压应变\n",
    "\n",
    "x = np.linspace(0, epscu / epscc, 100)\n",
    "msc = fccp * x * r / (r - 1 + x**r) # Mander本构骨架曲线的应力数据（MPa）\n",
    "mec = x * epscc # Mander本构骨架曲线的应变数据\n",
    "\n",
    "# plt.plot(ec,sc)\n",
    "plt.plot(mec,msc)\n",
    "plt.xlim(left = 0)\n",
    "plt.ylim(bottom = 0)\n",
    "\n",
    "# import pandas as pd\n",
    "# import openpyxl\n",
    "\n",
    "# out = pd.DataFrame(data=np.vstack((ec,sc)))\n",
    "# out.to_excel(\"confined.xlsx\")"
   ]
  },
  {
   "cell_type": "markdown",
   "metadata": {},
   "source": [
    "2. 矩形截面\n",
    "\n",
    "    矩形截面在两个主轴方向的有效约束应力分别为：\n",
    "\n",
    "    $$\n",
    "    f_{lx}^{'} = K_e \\cdot \\rho_{x} \\cdot f_{yh}, \\quad f_{ly}^{'} = K_e \\cdot \\rho_{y} \\cdot f_{yh} \\tag{3.10}\n",
    "    $$\n",
    "\n",
    "    其中，$\\rho_{x} = A_{sx} / (s \\cdot d_c)$，$\\rho_{y} = A_{sy} / (s \\cdot b_c)$，分别为箍筋在两个方向`x、y`的体积配箍率；$A_{sx}$、$A_{sy}$分别为沿`x、y`方向箍筋的总截面积；$d_c$、$b_c$分别为截面`y、x`方向的核心混凝土尺寸，按箍筋中心线计算；截面的有效约束系数$K_e$，一般矩形截面可取0.75，狭长截面可取0.6（Mander的原文献有具体公式）。由于矩形截面两个方向上的约束水平可能不同，因此可利用下图中约束应力和约束强度关系曲线，查出约束强度比。\n",
    "\n",
    "    <div align=\"center\">\n",
    "    <img src=\"./confinement.png\">\n",
    "    </div>\n",
    "\n",
    "    针对上图，可采用近似方程（式(3.11)~式(3.15)）计算约束强度。\n",
    "\n",
    "    $$\n",
    "    f_{cc}^{'} = f_{c}^{'} \\cdot \\bigg [1 + A \\bar x \\bigg(0.1 + \\displaystyle{\\frac {0.9}{1 + B \\bar x}} \\bigg) \\bigg ] \\tag{3.11}\n",
    "    $$\n",
    "\n",
    "    其中，\n",
    "\n",
    "    $$\n",
    "    \\bar x = \\displaystyle{\\frac {f_{lx}^{'} + f_{ly}^{'}}{2f_{c}^{'}}} \\tag{3.12}\n",
    "    $$\n",
    "\n",
    "    $$\n",
    "    r = \\displaystyle{\\frac {f_{lx}^{'}}{f_{ly}^{'}}}, \\quad f_{lx}^{'} \\leq f_{ly}^{'} \\tag{3.13}\n",
    "    $$\n",
    "\n",
    "    $$\n",
    "    A = 6.8886-(0.6069+17.275r)e^{-4.989r} \\tag{3.14}\n",
    "    $$\n",
    "\n",
    "    $$\n",
    "    B = \\displaystyle{\\frac {4.5}{\\displaystyle{\\frac {5}{A}}(0.9849-0.6306e^{-3.8939r})-0.1}} - 5 \\tag{3.15}\n",
    "    $$\n",
    "\n",
    "约束混凝土的极限压应变$\\epsilon_{cu}$，定义为横向约束箍筋开始发生断裂时的混凝土压应变，可由下式保守估计：\n",
    "$$\n",
    "\\epsilon_{cu} = 0.004 + \\displaystyle{\\frac{1.4\\rho_s \\cdot f_{yh} \\cdot \\epsilon_{su}}{f_{cc}^{'}}} \\tag{3.16}\n",
    "$$\n",
    "\n",
    "其中，$\\epsilon_{su}$为箍筋在最大拉应力时的应变（一般取为0.09）；$\\rho_s$为箍筋的体积配箍率，对于矩形截面有$\\rho_s = \\rho_{x} + \\rho_{y}$；$f_{cc}^{'}$为约束混凝土的峰值压应力；$f_{yh}$为约束箍筋的最大拉应力。"
   ]
  },
  {
   "cell_type": "code",
   "execution_count": null,
   "metadata": {},
   "outputs": [],
   "source": [
    "import numpy as np\n",
    "import matplotlib.pyplot as plt"
   ]
  },
  {
   "cell_type": "code",
   "execution_count": 8,
   "metadata": {},
   "outputs": [],
   "source": [
    "# 基本参数输入\n",
    "\n",
    "fcuk = 40 # 立方体标准值 C40（MPa）\n",
    "fyh = 300 # 箍筋的屈服强度（MPa）\n",
    "dsp = 12 # 箍筋直径（mm）\n",
    "dc = 2480 # 核心混凝土尺寸1（mm）\n",
    "bc = 1680 # 核心混凝土尺寸2（mm）\n",
    "n1 = 7 # 垂直于1方向的箍筋根数\n",
    "n2 = 6 # 垂直于2方向的箍筋根数\n",
    "s = 100 # 箍筋间距（mm）"
   ]
  },
  {
   "cell_type": "code",
   "execution_count": 9,
   "metadata": {},
   "outputs": [
    {
     "data": {
      "text/plain": [
       "(0.0, 38.97488427197577)"
      ]
     },
     "execution_count": 9,
     "metadata": {},
     "output_type": "execute_result"
    },
    {
     "data": {
      "image/png": "[encoded data removed]",
      "text/plain": [
       "<Figure size 432x288 with 1 Axes>"
      ]
     },
     "metadata": {
      "needs_background": "light"
     },
     "output_type": "display_data"
    }
   ],
   "source": [
    "xc = np.array([20, 25, 30, 35, 40, 45, 50, 55, 60, 65, 70, 75, 80])\n",
    "yc = np.array([0.80, 0.80, 0.80, 0.80, 0.80, 0.815, 0.83, 0.845, 0.86, 0.8675, 0.875, 0.8825, 0.89])\n",
    "zc = np.array([1470, 1560, 1640, 1720, 1790, 1850, 1920, 1980, 2030, 2080, 2130, 2190, 2240]) * 10**(-6)\n",
    "\n",
    "fcp = np.interp(fcuk, xc, yc) * fcuk # 圆柱体抗压强度（MPa）\n",
    "epsc0 = np.interp(fcp, xc, zc) # 根据混规插值出峰值应力对应的应变\n",
    "Ec = 5000 * fcp**0.5 # 弹模（MPa）\n",
    "\n",
    "Asp = 0.25 * np.pi * dsp**2 # 箍筋截面积mm^2\n",
    "\n",
    "flxp = 0.75 * Asp * n1 / s / dc * fyh # 方向1上的横向约束应力（MPa）\n",
    "flyp = 0.75 * Asp * n2 / s / bc * fyh # 方向2上的横向约束应力（MPa）\n",
    "\n",
    "xbar = (flxp + flyp) / 2 / fcp\n",
    "r = np.min([flxp, flyp]) / np.max([flxp, flyp])\n",
    "A = 6.8886 - (0.6069 + 17.275 * r) * np.exp(-4.989 * r)\n",
    "B = 4.5 / (5 / A * (0.9849 - 0.6306 * np.exp(-3.8939 * r)) - 0.1) - 5\n",
    "\n",
    "fccp = fcp * (1 + A * xbar * (0.1 + 0.9 / (1 + B * xbar))) # 约束后的峰值压应力（MPa）\n",
    "epscc = epsc0 * (5 * (fccp / fcp - 1) + 1) # 约束后的峰值压应力对应的应变\n",
    "Esec = fccp / epscc # 割线模量，用来定义骨架曲线（MPa）\n",
    "r = Ec / (Ec - Esec) # 用来定义骨架曲线的形状参数\n",
    "\n",
    "epscu = 0.004 + 1.4 * fyh * 0.09 * (Asp * n1 / s / dc + Asp * n2 / s / bc) / fccp # 约束混凝土的极限压应变\n",
    "\n",
    "x = np.linspace(0, epscu / epscc, 100)\n",
    "msc = fccp * x * r / (r - 1 + x**r) # Mander本构骨架曲线的应力数据（MPa）\n",
    "mec = x * epscc # Mander本构骨架曲线的应变数据\n",
    "\n",
    "# plt.plot(ec,sc)\n",
    "plt.plot(mec,msc)\n",
    "plt.xlim(left = 0)\n",
    "plt.ylim(bottom = 0)\n"
   ]
  },
  {
   "cell_type": "markdown",
   "metadata": {},
   "source": [
    "## 4 OpenSees中常见的混凝土本构及相关取值\n",
    "\n",
    "### 4.1 Concrete01\n",
    "\n",
    "<div align=\"center\">\n",
    "<img src=\"./Concrete01.gif\">\n",
    "</div>\n",
    "\n",
    "Concrete01仅考虑混凝土的受压，是OpenSees中最简单的混凝土本构。模型采用了单轴的Kent-Scott-Park本构模型模型由上升段和下降的二折线组成。在OpenSees中的命令为\n",
    "\n",
    "```OpenSees\n",
    "uniaxialMaterial Concrete01 $matTag $fpc $epsc0 $fpcu $epsU\n",
    "\n",
    "$matTag\tinteger tag identifying material\n",
    "$fpc\tconcrete compressive strength at 28 days (compression is negative)*\n",
    "$epsc0\tconcrete strain at maximum strength*\n",
    "$fpcu\tconcrete crushing strength *\n",
    "$epsU\tconcrete strain at crushing strength*\n",
    "```\n",
    "\n",
    "模型的上升段采用Hognestad的二次式：\n",
    "$$\n",
    "y = 2x - x^2 \\tag{4.1}\n",
    "$$\n",
    "\n",
    "其中$x$和$y$为无量纲坐标。\n",
    "\n",
    "$$\n",
    "x = \\displaystyle{\\frac{\\epsilon}{\\epsilon_{c0}}}, \\quad y = \\displaystyle{\\frac{\\sigma}{f^{'}_{c}}} \\tag{4.2}\n",
    "$$\n",
    "\n",
    "对二次式求导可得到初始弹性模量为$2f^{'}_{c}/\\epsilon_{c0}$。模型的下降段采用二折线，即线性下降至破碎强度$f^{'}_{cu}$，此时对应的应变为$\\epsilon_{u}$；超过此应变后为水平线。Concrete01模型简单，计算速度快价格低，收到了大部分研究者的青睐。经过比较，通过调整模型参数，Concrete01能够很好地拟合《混凝土结构设计规范》GB 50010 - 2010中无约束混凝土的单轴本构关系；但是对于Mander约束本构，Concrete01的效果较一般（仅仅是相对无约束而言）。然而，该本构也或多或少存在着一定的缺陷：\n",
    "\n",
    "\n",
    "1. 没有受拉行为。虽然主流观点认为结构分析时可忽略混凝土的受拉特性；同时混凝土结构本身带裂缝工作，在地震来临之前裂缝已经产生了，因此可以不考虑混凝土的受拉行为。然而是否模拟受拉还是需要视情况而定。\n",
    "2. 由于不考虑混凝土材料开裂后裂缝的提前闭合（由于裂缝被压碎后的材料碎屑填满），采用Concrete01会导致结构的力-位移曲线出现“零”刚度的问题。这一问题虽然不会对结构最大位移响应产生明显影响，但是会出现严重损伤的结构残余位移偏小甚至为0的情况。（本质上是由于Concrete01采用了不符合实际的加卸载准则。但该准则内置在OpenSees中无法修改，如果残余位移是关注的重点，则应采用后面几种高级材料（如ConcreteCM）或重新写程序（如Concrete01withSITC)。)"
   ]
  },
  {
   "cell_type": "code",
   "execution_count": null,
   "metadata": {},
   "outputs": [],
   "source": [
    "import numpy as np\n",
    "import matplotlib.pyplot as plt"
   ]
  },
  {
   "cell_type": "code",
   "execution_count": 10,
   "metadata": {},
   "outputs": [],
   "source": [
    "# 基本参数输入\n",
    "\n",
    "fpc = 32\n",
    "epsc0 = 0.003\n",
    "fpcu = 6.4\n",
    "epsu = 0.008"
   ]
  },
  {
   "cell_type": "code",
   "execution_count": 11,
   "metadata": {},
   "outputs": [
    {
     "data": {
      "text/plain": [
       "(0.0, 33.6)"
      ]
     },
     "execution_count": 11,
     "metadata": {},
     "output_type": "execute_result"
    },
    {
     "data": {
      "image/png": "[encoded data removed]",
      "text/plain": [
       "<Figure size 432x288 with 1 Axes>"
      ]
     },
     "metadata": {
      "needs_background": "light"
     },
     "output_type": "display_data"
    }
   ],
   "source": [
    "# 上升段\n",
    "\n",
    "c1e1 = np.linspace(0, 1, 100) * epsc0\n",
    "c1s1 = (2 * np.linspace(0, 1, 100) - np.linspace(0, 1, 100)**2) * fpc\n",
    "\n",
    "# 下降段+水平线\n",
    "\n",
    "c1e2 = np.linspace(1, epsu / epsc0, 100) * epsc0\n",
    "c1s2 = (fpcu - fpc) / (epsu - epsc0) * (c1e2 - epsc0) + fpc\n",
    "c1e3 = np.linspace(epsu / epsc0, 2 * epsu / epsc0, 100) * epsc0\n",
    "c1s3 = np.ones(100) * fpcu\n",
    "\n",
    "c1e = np.concatenate((c1e1, c1e2, c1e3))\n",
    "c1s = np.concatenate((c1s1, c1s2, c1s3))\n",
    "\n",
    "plt.plot(c1e, c1s)\n",
    "# plt.plot(mec,msc)\n",
    "plt.xlim(left = 0)\n",
    "plt.ylim(bottom = 0)"
   ]
  },
  {
   "cell_type": "markdown",
   "metadata": {},
   "source": [
    "### 4.2 Concrete02\n",
    "\n",
    "<div align=\"center\">\n",
    "<img src=\"./Concrete02.jpg\">\n",
    "</div>\n",
    "\n",
    "Concrete02受压部分与Concrete01相同因此不再赘述，同时Concrete02还考虑了混凝土的受拉部分，是OpenSees中次简单的混凝土本构。其命令如下：\n",
    "\n",
    "```OpenSees\n",
    "uniaxialMaterial Concrete02 $matTag $fpc $epsc0 $fpcu $epsU $lambda $ft $Ets\n",
    "\n",
    "$matTag\tinteger tag identifying material\n",
    "$fpc\tconcrete compressive strength at 28 days (compression is negative)*\n",
    "$epsc0\tconcrete strain at maximum strength*\n",
    "$fpcu\tconcrete crushing strength *\n",
    "$epsU\tconcrete strain at crushing strength*\n",
    "$lambda\tratio between unloading slope at $epscu and initial slope\n",
    "$ft\ttensile strength\n",
    "$Ets\ttension softening stiffness (absolute value) (slope of the linear tension softening branch)\n",
    "```\n",
    "\n",
    "Concrete02在考虑混凝土受拉时，上升段和下降段均采用线性模型简化。其中上升段斜率$2f^{'}_{c}/\\epsilon_{c0}$，峰值强度$f_t$；下降段斜率为$E_{ts}$。Concrete02虽然在Concrete01的基础上考虑了混凝土的受拉，但是由于受拉部分的模型太过于简单，因此与《混凝土结构设计规范》GB 50010 - 2010中混凝土受拉本构的拟合效果并不好：\n",
    "\n",
    "1. 上升段采用常刚度而非变刚度，并且采用了受压侧的初始刚度，因此低估了混凝土受拉峰值应力所对应的应变；\n",
    "2. 线性下降段过于简化。（相比而言，Concrete04采用了指数下降模型，更符合实际。）"
   ]
  },
  {
   "cell_type": "code",
   "execution_count": 12,
   "metadata": {},
   "outputs": [],
   "source": [
    "import numpy as np\n",
    "import matplotlib.pyplot as plt"
   ]
  },
  {
   "cell_type": "code",
   "execution_count": 13,
   "metadata": {},
   "outputs": [],
   "source": [
    "# 基本参数输入\n",
    "\n",
    "fpc = 32\n",
    "epsc0 = 0.003135\n",
    "fpcu = 25\n",
    "epsu = 0.01\n",
    "\n",
    "ft = 2.39\n",
    "Ets = 0.3 * 2 * fpc / epsc0 # 0.6可调整"
   ]
  },
  {
   "cell_type": "code",
   "execution_count": 14,
   "metadata": {},
   "outputs": [
    {
     "data": {
      "text/plain": [
       "(0.0, 2.5095)"
      ]
     },
     "execution_count": 14,
     "metadata": {},
     "output_type": "execute_result"
    },
    {
     "data": {
      "image/png": "[encoded data removed]",
      "text/plain": [
       "<Figure size 432x288 with 1 Axes>"
      ]
     },
     "metadata": {
      "needs_background": "light"
     },
     "output_type": "display_data"
    }
   ],
   "source": [
    "# 上升段\n",
    "\n",
    "c2e1 = np.linspace(0, ft / (2 * fpc / epsc0), 100)\n",
    "c2s1 = c2e1 * (2 * fpc / epsc0)\n",
    "\n",
    "# 下降段\n",
    "\n",
    "c2e2 = np.linspace(ft / (2 * fpc / epsc0), ft / (2 * fpc / epsc0) + ft / Ets, 100)\n",
    "c2s2 = -Ets * (c2e2 - ft / (2 * fpc / epsc0)) + ft\n",
    "\n",
    "c2e = np.concatenate((c2e1, c2e2))\n",
    "c2s = np.concatenate((c2s1, c2s2))\n",
    "\n",
    "plt.plot(c2e, c2s)\n",
    "# plt.plot(et,st)\n",
    "plt.xlim(left = 0)\n",
    "plt.ylim(bottom = 0)"
   ]
  },
  {
   "cell_type": "markdown",
   "metadata": {},
   "source": [
    "### 4.3 Concrete04\n",
    "\n",
    "<div align=\"center\">\n",
    "<img src=\"./Concrete04.png\">\n",
    "</div>\n",
    "\n",
    "Concrete04考虑了混凝土的受拉、受压行为。其中，受压行为采用了Popovics混凝土本构，该本构是描述混凝土单轴受压行为最成功的模型之一。实际上，Mander约束混凝土本构就是在Popovics本构的基础上发展而来的，而无约束混凝土本构就是Popovics本构。\n",
    "\n",
    "$$\n",
    "\\displaystyle{\\frac{\\sigma}{f_{c}}} = \\displaystyle{\\frac{\\bigg(\\displaystyle{\\frac{\\epsilon}{\\epsilon_{c}}}\\bigg) \\cdot r}{r - 1 + \\bigg(\\displaystyle{\\frac{\\epsilon}{\\epsilon_{c}}}\\bigg)^r}} \\tag{4.3}\n",
    "$$\n",
    "\n",
    "其中，$r = {E_c}/(E_c - E_{sec})$，$E_{sec} = {f_{c}^{'}}/{\\epsilon_{c}}$。\n",
    "\n",
    "受拉行为采用了线性上升、指数下降模型，与实际受拉行为更为贴近。其中指数下降段的数学模型如下：\n",
    "\n",
    "$$\n",
    "\\sigma = f_t \\cdot \\beta^{\\bigg(\\displaystyle{\\frac{\\epsilon - {f_{ct}}/{E_c}}{\\epsilon_{tu} - {f_{ct}}/{E_c}}}\\bigg)} \\tag{4.4}\n",
    "$$\n",
    "\n",
    "Concrete04在OpenSees中的命令如下：\n",
    "\n",
    "```opensees\n",
    "uniaxialMaterial Concrete04 $matTag $fc $ec $ecu $Ec <$fct $etu> <$beta>\n",
    "\n",
    "$matTag\tinteger tag identifying material\n",
    "$fc\tfloating point values defining concrete compressive strength at 28 days (compression is negative)*\n",
    "$ec\tfloating point values defining concrete strain at maximum strength*\n",
    "$ecu\tfloating point values defining concrete strain at crushing strength*\n",
    "$Ec\tfloating point values defining initial stiffness**\n",
    "$fct\tfloating point value defining the maximum tensile strength of concrete\n",
    "$etu\tfloating point value defining ultimate tensile strain of concrete\n",
    "$beta\tloating point value defining the exponential curve parameter to define the residual stress (as a factor of $ft) at $etu\n",
    "```\n",
    "\n",
    "Concrete04受拉本构的上升段仍然采用常刚度而非变刚度，并且采用了受压侧的初始刚度，因此低估了混凝土受拉峰值应力所对应的应变。"
   ]
  },
  {
   "cell_type": "code",
   "execution_count": null,
   "metadata": {},
   "outputs": [],
   "source": [
    "import numpy as np\n",
    "import matplotlib.pyplot as plt"
   ]
  },
  {
   "cell_type": "code",
   "execution_count": 15,
   "metadata": {},
   "outputs": [],
   "source": [
    "# 基本参数输入\n",
    "\n",
    "fc = 32\n",
    "ec = 0.001672\n",
    "ecu = 0.004\n",
    "Ec = 5000 * fc**0.5 # 弹模用这个值就和Mander完全一样\n",
    "\n",
    "fct = 2.39\n",
    "etu = 6 * fct / Ec # 系数可调\n",
    "beta = 0.15 # 可调"
   ]
  },
  {
   "cell_type": "code",
   "execution_count": 17,
   "metadata": {},
   "outputs": [
    {
     "data": {
      "text/plain": [
       "(0.0, 2.5095)"
      ]
     },
     "execution_count": 17,
     "metadata": {},
     "output_type": "execute_result"
    },
    {
     "data": {
      "image/png": "[encoded data removed]",
      "text/plain": [
       "<Figure size 432x288 with 1 Axes>"
      ]
     },
     "metadata": {
      "needs_background": "light"
     },
     "output_type": "display_data"
    }
   ],
   "source": [
    "c4e1 = np.linspace(0, fct / Ec, 100)\n",
    "c4s1 = c4e1 * Ec\n",
    "\n",
    "c4e2 = np.linspace(fct / Ec, etu, 100)\n",
    "c4s2 = fct * beta**((c4e2 - fct / Ec) / (etu - fct / Ec))\n",
    "\n",
    "c4e = np.concatenate((c4e1, c4e2))\n",
    "c4s = np.concatenate((c4s1, c4s2))\n",
    "\n",
    "plt.plot(c4e, c4s)\n",
    "# plt.plot(et,st)\n",
    "plt.xlim(left = 0)\n",
    "plt.ylim(bottom = 0)"
   ]
  },
  {
   "cell_type": "markdown",
   "metadata": {},
   "source": [
    "### 4.4 Concrete06\n",
    "\n",
    "主要用以模拟薄膜单元的力学性能，貌似不常用，这里先留个位置。"
   ]
  },
  {
   "cell_type": "markdown",
   "metadata": {},
   "source": [
    "### 4.5 Concrete07\n",
    "\n",
    "<div align=\"center\">\n",
    "<img src=\"./Concrete07.png\">\n",
    "</div>\n",
    "\n",
    "Concrete07模型基于Chang - Mander本构。为了提高数值稳定性，Waugh对Chang - Mander本构的加卸载准则进行了调整，用三折线取代了原本的连续函数。该模型形式复杂计算用时长，但考虑因素全面。其受拉、受压骨架曲线的数学形式相同，均采用了Tsai提出的广义Popovics曲线，仅参数取值不同。\n",
    "\n",
    "$$\n",
    "y = \\displaystyle{\\frac {mx}{1 + \\bigg( m - \\displaystyle{\\frac {n}{n - 1}} \\bigg) x + \\displaystyle{\\frac {x^n}{n - 1}}}} \\tag{4.5}\n",
    "$$\n",
    "\n",
    "其中，$m = E_c/E_{sec}$控制曲线上升段的倾斜程度；$n$则控制下降段的倾斜程度。可以看到如果将$m$取为$n/(n-1)$，式(4.4)则退化为式(4.2)。因此，该本构又被称为Popovics曲线的广义形式。对于无约束混凝土，模型中的相关参数取值可参考：\n",
    "\n",
    "$$\n",
    "\\epsilon_c = \\displaystyle{\\frac {f_c^{1/4}}{1152.7}} \\tag{4.6}\n",
    "$$\n",
    "\n",
    "$$\n",
    "E_c = 8200f_c^{3/8} \\tag{4.7}\n",
    "$$\n",
    "\n",
    "$$\n",
    "f_t = 0.62f_c^{1/2} \\tag{4.8}\n",
    "$$\n",
    "\n",
    "$$\n",
    "\\epsilon_t = \\displaystyle{\\frac {2f_t}{E_c}} \\tag{4.9}\n",
    "$$\n",
    "\n",
    "$$\n",
    "n = \\displaystyle{\\frac {f_c}{5.2}} - 1.9 \\tag{4.10}\n",
    "$$\n",
    "\n",
    "同时由式(4.4)可见，即便$x \\to \\infty$时，$y$仍然大于零。而实际情况为，保护层混凝土受压（受拉）达到一定应变$\\epsilon_{sp}(\\epsilon_{crk})$时将会剥落。因此对于无约束混凝土，Concrete07本构认为当应变超过$x_n * \\epsilon_c(x_p * \\epsilon_t)$时，混凝土的应力 - 应变曲线将会直线下降至$(\\epsilon_{sp}, 0)\\big((\\epsilon_{crk}, 0)\\big)$。相关参数取值为：\n",
    "\n",
    "$$\n",
    "x_n = 2.3 \\tag{4.11}\n",
    "$$\n",
    "\n",
    "\n",
    "$$\n",
    "\\epsilon_{sp} = x_n * \\epsilon_c * \\bigg[ 1 - \\displaystyle{\\frac {1+(m_c-n/(n-1))x_n+x_n^n/(n-1)}{1-x_n^n}} \\bigg] \\tag{4.12}\n",
    "$$\n",
    "\n",
    "$$\n",
    "x_p = 2 \\tag{4.13}\n",
    "$$\n",
    "\n",
    "$$\n",
    "\\epsilon_{crk} = x_p * \\epsilon_t * \\bigg[ 1 - \\displaystyle{\\frac {1+(m_t-n/(n-1))x_p+x_p^n/(n-1)}{1-x_p^n}} \\bigg] \\tag{4.14}\n",
    "$$\n",
    "\n",
    "Concrete07在OpenSees中的命令如下：\n",
    "\n",
    "```opensees\n",
    "uniaxialMaterial Concrete07 $matTag $fc $ec $Ec $ft $et $xp $xn $r\n",
    "\n",
    "$matTag\tinteger tag identifying material\n",
    "$fc\tconcrete compressive strength (compression is negative)*\n",
    "$ec\tconcrete strain at maximum compressive strength*\n",
    "$Ec\tInitial Elastic modulus of the concrete\n",
    "$ft\ttensile strength of concrete (tension is positive)\n",
    "$et\ttensile strain at max tensile strength of concrete\n",
    "$xp\tNon-dimensional term that defines the strain at which the straight line descent begins in tension\n",
    "$xn\tNon-dimensional term that defines the strain at which the straight line descent begins in compression\n",
    "$r\tParameter that controls the nonlinear descending branch\n",
    "```\n",
    "\n",
    "其中最后一个参数$r$，即为式(4.4)中的$n$。"
   ]
  },
  {
   "cell_type": "code",
   "execution_count": null,
   "metadata": {},
   "outputs": [],
   "source": [
    "import numpy as np\n",
    "import matplotlib.pyplot as plt"
   ]
  },
  {
   "cell_type": "code",
   "execution_count": 18,
   "metadata": {},
   "outputs": [],
   "source": [
    "# 基本参数输入\n",
    "\n",
    "fc = 32 # 圆柱体抗压强度(MPa)；为使n大于1，fc至少应大于15.08，因此该本构对于低强度混凝土并不适用\n",
    "epsc = 0.001672 # 建议值 fc**(1/4) / 1152.7，但和国标对不上，这里先用国标的值\n",
    "Ec = 32500 # 建议值 8200 * fc**(3/8)，但和国标对不上，这里先用国标的值\n",
    "ft = 2.39 # 建议值 0.62 * fc**(1/2)，但和国标对不上，这里先用国标的值\n",
    "epst = 0.00010436 # 建议值 2 * ft / Ec，但和国标对不上，这里先用国标的值\n",
    "n = fc / 5.2 - 1.9\n",
    "\n",
    "xn = 2.3\n",
    "xp = 2"
   ]
  },
  {
   "cell_type": "code",
   "execution_count": 20,
   "metadata": {},
   "outputs": [
    {
     "data": {
      "text/plain": [
       "(0.0, 33.59995705033611)"
      ]
     },
     "execution_count": 20,
     "metadata": {},
     "output_type": "execute_result"
    },
    {
     "data": {
      "image/png": "[encoded data removed]",
      "text/plain": [
       "<Figure size 432x288 with 1 Axes>"
      ]
     },
     "metadata": {
      "needs_background": "light"
     },
     "output_type": "display_data"
    }
   ],
   "source": [
    "# 受压部分\n",
    "# 广义Popovics曲线\n",
    "\n",
    "Esecc = fc / epsc\n",
    "mc = Ec / Esecc\n",
    "\n",
    "c7e1c = np.linspace(0, xn, 100) * epsc\n",
    "c7s1c = fc * (mc * np.linspace(0, xn, 100) / (1 + (mc - n/(n-1)) * np.linspace(0, xn, 100) + np.linspace(0, xn, 100)**n /(n-1)))\n",
    "\n",
    "# 线性下降\n",
    "\n",
    "esp = xn * epsc * (1 - (1+(mc-n/(n-1))*xn+xn**n/(n-1))/(1-xn**n))\n",
    "c7e2c = np.linspace(xn, esp / epsc, 100) * epsc\n",
    "c7s2c = np.linspace(c7s1c[-1], 0, 100)\n",
    "\n",
    "c7ec = np.concatenate((c7e1c, c7e2c))\n",
    "c7sc = np.concatenate((c7s1c, c7s2c))\n",
    "\n",
    "plt.plot(c7ec, c7sc)\n",
    "# plt.plot(ec,sc)\n",
    "plt.xlim(left = 0)\n",
    "plt.ylim(bottom = 0)"
   ]
  },
  {
   "cell_type": "code",
   "execution_count": 25,
   "metadata": {},
   "outputs": [
    {
     "data": {
      "text/plain": [
       "(0.0, 2.50932200231791)"
      ]
     },
     "execution_count": 25,
     "metadata": {},
     "output_type": "execute_result"
    },
    {
     "data": {
      "image/png": "[encoded data removed]",
      "text/plain": [
       "<Figure size 432x288 with 1 Axes>"
      ]
     },
     "metadata": {
      "needs_background": "light"
     },
     "output_type": "display_data"
    }
   ],
   "source": [
    "# 受拉部分\n",
    "# 广义Popovics曲线\n",
    "\n",
    "Esect = ft / epst\n",
    "mt = Ec / Esect\n",
    "\n",
    "c7e1t = np.linspace(0, xp, 100) * epst\n",
    "c7s1t = ft * (mt * np.linspace(0, xp, 100) / (1 + (mt - n/(n-1)) * np.linspace(0, xp, 100) + np.linspace(0, xp, 100)**n /(n-1)))\n",
    "\n",
    "# 线性下降\n",
    "\n",
    "ecrk = xp * epst * (1 - (1+(mt-n/(n-1))*xp+xp**n/(n-1))/(1-xp**n))\n",
    "c7e2t = np.linspace(xp, ecrk / epst, 100) * epst\n",
    "c7s2t = np.linspace(c7s1t[-1], 0, 100)\n",
    "\n",
    "c7et = np.concatenate((c7e1t, c7e2t))\n",
    "c7st = np.concatenate((c7s1t, c7s2t))\n",
    "\n",
    "plt.plot(c7et, c7st)\n",
    "# plt.plot(et,st)\n",
    "plt.xlim(left = 0)\n",
    "plt.ylim(bottom = 0)"
   ]
  },
  {
   "cell_type": "markdown",
   "metadata": {},
   "source": [
    "对于约束混凝土受压本构，则采用Mander模型对峰值应力$f_c$，及其对应的应变$\\epsilon_c$进行调整（见式(3.3)~式(3.15)）。同时取。与Mander模型不同的是，Concrete07建议约束混凝土的极限压应变$\\epsilon_{cu}$取大值，即$x_n$取大值（30）。而约束混凝土受拉本构保持不变。"
   ]
  },
  {
   "cell_type": "code",
   "execution_count": null,
   "metadata": {},
   "outputs": [],
   "source": [
    "import numpy as np\n",
    "import matplotlib.pyplot as plt"
   ]
  },
  {
   "cell_type": "code",
   "execution_count": 22,
   "metadata": {},
   "outputs": [],
   "source": [
    "# 基本参数输入\n",
    "\n",
    "fcuk = 40 # 立方体标准值 C40（MPa）\n",
    "fyh = 300 # 箍筋的屈服强度（MPa）\n",
    "dsp = 12 # 箍筋直径（mm）\n",
    "Dp = 1500 # 箍筋环直径（mm）\n",
    "s = 50 # 箍筋间距（mm）\n",
    "\n",
    "xc = np.array([20, 25, 30, 35, 40, 45, 50, 55, 60, 65, 70, 75, 80])\n",
    "yc = np.array([0.80, 0.80, 0.80, 0.80, 0.80, 0.815, 0.83, 0.845, 0.86, 0.8675, 0.875, 0.8825, 0.89])\n",
    "zc = np.array([1470, 1560, 1640, 1720, 1790, 1850, 1920, 1980, 2030, 2080, 2130, 2190, 2240]) * 10**(-6)\n",
    "\n",
    "fc = np.interp(fcuk, xc, yc) * fcuk # 圆柱体抗压强度（MPa）\n",
    "epsc0 = np.interp(fc, xc, zc) # 根据混规插值出峰值应力对应的应变\n",
    "Ec = 5000 * fc**0.5 # 弹模（MPa）\n",
    "\n",
    "Asp = 0.25 * np.pi * dsp**2 # 箍筋截面积mm^2\n",
    "\n",
    "flp = 0.95 * 2 * fyh * Asp / Dp / s # 有效横向约束应力（MPa）\n",
    "fcc = fc * (2.254 * (1 + 7.94 * flp / fc)**0.5 - 2 * flp / fc - 1.254) # 约束后的峰值压应力（MPa）\n",
    "epscc = epsc0 * (5 * (fcc / fc - 1) + 1) # 约束后的峰值压应力对应的应变\n",
    "\n",
    "xn = 30"
   ]
  },
  {
   "cell_type": "code",
   "execution_count": 24,
   "metadata": {},
   "outputs": [
    {
     "data": {
      "text/plain": [
       "(0.0, 39.479821805266326)"
      ]
     },
     "execution_count": 24,
     "metadata": {},
     "output_type": "execute_result"
    },
    {
     "data": {
      "image/png": "[encoded data removed]",
      "text/plain": [
       "<Figure size 432x288 with 1 Axes>"
      ]
     },
     "metadata": {
      "needs_background": "light"
     },
     "output_type": "display_data"
    }
   ],
   "source": [
    "# 受压部分\n",
    "# 广义Popovics曲线\n",
    "\n",
    "Eseccc = fcc / epscc\n",
    "mcc = Ec / Eseccc\n",
    "n = mcc/(mcc-1)\n",
    "\n",
    "c7e1cc = np.linspace(0, xn, 1000) * epscc\n",
    "c7s1cc = fcc * (mcc * np.linspace(0, xn, 1000) / (1 + (mcc - n/(n-1)) * np.linspace(0, xn, 1000) + np.linspace(0, xn, 1000)**n /(n-1)))\n",
    "\n",
    "# 线性下降\n",
    "\n",
    "espc = xn * epscc * (1 - (1+(mcc-n/(n-1))*xn+xn**n/(n-1))/(1-xn**n))\n",
    "c7e2cc = np.linspace(xn, espc / epscc, 100) * epscc\n",
    "c7s2cc = np.linspace(c7s1cc[-1], 0, 100)\n",
    "\n",
    "c7ecc = np.concatenate((c7e1cc, c7e2cc))\n",
    "c7scc = np.concatenate((c7s1cc, c7s2cc))\n",
    "\n",
    "plt.plot(c7ecc, c7scc)\n",
    "# plt.plot(mec,msc)\n",
    "plt.xlim(left = 0)\n",
    "plt.xlim(right = 0.02)\n",
    "plt.ylim(bottom = 0)"
   ]
  },
  {
   "cell_type": "markdown",
   "metadata": {},
   "source": [
    "### 4.6 ConcreteCM\n",
    "\n",
    "<div align=\"center\">\n",
    "<img src=\"./ConcreteCM.png\">\n",
    "</div>\n",
    "\n",
    "ConcreteCM模型依然基于Chang - Mander本构，但该模型与Chang - Mander模型完全一致，不像Concrete07对原本构进行了简化。该模型形式复杂计算用时长，但考虑因素全面。其受拉、受压骨架曲线的数学形式相同，均采用了Tsai提出的广义Popovics曲线，仅参数取值不同。\n",
    "\n",
    "ConcreteCM在OpenSees中的命令如下：\n",
    "\n",
    "```opensees\n",
    "uniaxialMaterial ConcreteCM $mattag $fpcc $epcc $Ec $rc $xcrn $ft $et $rt $xcrp <-GapClose $gap>\n",
    "\n",
    "$mattag\tUnique uniaxialMaterial tag\n",
    "$fpcc\tCompressive strength (f'c)\n",
    "$epcc\tStrain at compressive strength (<math>\\epsilon</math>'c)\n",
    "$Ec\tInitial tangent modulus (Ec)\n",
    "$rc\tShape parameter in Tsai’s equation defined for compression (rc)\n",
    "$xcrn\tNon-dimensional critical strain on compression envelope (<math>\\epsilon</math>-cr, where the envelope curve starts following a straight line)\n",
    "$ft\tTensile strength (ft)\n",
    "$et\tStrain at tensile strength (<math>\\epsilon</math>t)\n",
    "$rt\tShape parameter in Tsai’s equation defined for tension (rt)\n",
    "$xcrp\tNon-dimensional critical strain on tension envelope (<math>\\epsilon</math>+cr, where the envelope curve starts following a straight line – large value [e.g., 10000] recommended when tension stiffening is considered)\n",
    "<-GapClose $gap>\tgap = 0, less gradual gap closure (default); gap = 1, more gradual gap closure\n",
    "```\n",
    "\n",
    "其中参数$r_c$，即为式(4.4)中的$n$。"
   ]
  }
 ],
 "metadata": {
  "kernelspec": {
   "display_name": "Python 3",
   "language": "python",
   "name": "python3"
  },
  "language_info": {
   "codemirror_mode": {
    "name": "ipython",
    "version": 3
   },
   "file_extension": ".py",
   "mimetype": "text/x-python",
   "name": "python",
   "nbconvert_exporter": "python",
   "pygments_lexer": "ipython3",
   "version": "3.8.5"
  },
  "vscode": {
   "interpreter": {
    "hash": "88279d2366fe020547cde40dd65aa0e3aa662a6ec1f3ca12d88834876c85e1a6"
   }
  }
 },
 "nbformat": 4,
 "nbformat_minor": 2
}
